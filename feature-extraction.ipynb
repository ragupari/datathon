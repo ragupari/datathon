{
 "cells": [
  {
   "cell_type": "code",
   "execution_count": 1,
   "id": "1681be4c",
   "metadata": {
    "execution": {
     "iopub.execute_input": "2024-09-10T10:55:28.906576Z",
     "iopub.status.busy": "2024-09-10T10:55:28.906106Z",
     "iopub.status.idle": "2024-09-10T10:55:43.516729Z",
     "shell.execute_reply": "2024-09-10T10:55:43.515123Z"
    },
    "papermill": {
     "duration": 14.618011,
     "end_time": "2024-09-10T10:55:43.519742",
     "exception": false,
     "start_time": "2024-09-10T10:55:28.901731",
     "status": "completed"
    },
    "tags": []
   },
   "outputs": [
    {
     "name": "stdout",
     "output_type": "stream",
     "text": [
      "Requirement already satisfied: pandas in /opt/conda/lib/python3.10/site-packages (2.2.2)\r\n",
      "Requirement already satisfied: scikit-learn in /opt/conda/lib/python3.10/site-packages (1.2.2)\r\n",
      "Requirement already satisfied: numpy>=1.22.4 in /opt/conda/lib/python3.10/site-packages (from pandas) (1.26.4)\r\n",
      "Requirement already satisfied: python-dateutil>=2.8.2 in /opt/conda/lib/python3.10/site-packages (from pandas) (2.9.0.post0)\r\n",
      "Requirement already satisfied: pytz>=2020.1 in /opt/conda/lib/python3.10/site-packages (from pandas) (2024.1)\r\n",
      "Requirement already satisfied: tzdata>=2022.7 in /opt/conda/lib/python3.10/site-packages (from pandas) (2024.1)\r\n",
      "Requirement already satisfied: scipy>=1.3.2 in /opt/conda/lib/python3.10/site-packages (from scikit-learn) (1.14.0)\r\n",
      "Requirement already satisfied: joblib>=1.1.1 in /opt/conda/lib/python3.10/site-packages (from scikit-learn) (1.4.2)\r\n",
      "Requirement already satisfied: threadpoolctl>=2.0.0 in /opt/conda/lib/python3.10/site-packages (from scikit-learn) (3.5.0)\r\n",
      "Requirement already satisfied: six>=1.5 in /opt/conda/lib/python3.10/site-packages (from python-dateutil>=2.8.2->pandas) (1.16.0)\r\n"
     ]
    }
   ],
   "source": [
    "!pip install pandas scikit-learn"
   ]
  },
  {
   "cell_type": "code",
   "execution_count": 2,
   "id": "235acff6",
   "metadata": {
    "execution": {
     "iopub.execute_input": "2024-09-10T10:55:43.526418Z",
     "iopub.status.busy": "2024-09-10T10:55:43.525958Z",
     "iopub.status.idle": "2024-09-10T10:55:45.521979Z",
     "shell.execute_reply": "2024-09-10T10:55:45.520759Z"
    },
    "papermill": {
     "duration": 2.002325,
     "end_time": "2024-09-10T10:55:45.524628",
     "exception": false,
     "start_time": "2024-09-10T10:55:43.522303",
     "status": "completed"
    },
    "tags": []
   },
   "outputs": [
    {
     "name": "stdout",
     "output_type": "stream",
     "text": [
      "                    Name  amusement parks  animal encounters  \\\n",
      "0         Jennifer Quinn                0                  0   \n",
      "1            Emily Perry                0                  0   \n",
      "2       Danielle Mcbride                0                  0   \n",
      "3        Angelica Wilson                0                  0   \n",
      "4          Laurie Powers                0                  0   \n",
      "...                  ...              ...                ...   \n",
      "9995  Jonathan Hernandez                0                  0   \n",
      "9996       Cody Gallegos                0                  0   \n",
      "9997           Amy House                0                  0   \n",
      "9998      Leslie Aguilar                1                  0   \n",
      "9999        Joseph Stone                0                  0   \n",
      "\n",
      "      archaeological sites  architecture photography  architecture tours  \\\n",
      "0                        0                         0                   0   \n",
      "1                        0                         0                   0   \n",
      "2                        0                         0                   0   \n",
      "3                        0                         0                   0   \n",
      "4                        0                         0                   0   \n",
      "...                    ...                       ...                 ...   \n",
      "9995                     0                         0                   0   \n",
      "9996                     0                         0                   0   \n",
      "9997                     0                         0                   0   \n",
      "9998                     0                         0                   0   \n",
      "9999                     0                         0                   0   \n",
      "\n",
      "      art classes  arts and culture  ayurvedic spa treatments  beach visits  \\\n",
      "0               0                 0                         0             0   \n",
      "1               0                 0                         0             0   \n",
      "2               0                 0                         0             0   \n",
      "3               0                 0                         0             0   \n",
      "4               0                 0                         0             0   \n",
      "...           ...               ...                       ...           ...   \n",
      "9995            0                 0                         0             0   \n",
      "9996            0                 0                         0             0   \n",
      "9997            0                 0                         0             0   \n",
      "9998            0                 0                         0             0   \n",
      "9999            0                 0                         0             0   \n",
      "\n",
      "      ...  themed parks  traditional ceremonies  turtle watching  \\\n",
      "0     ...             0                       0                0   \n",
      "1     ...             0                       0                0   \n",
      "2     ...             1                       0                0   \n",
      "3     ...             0                       0                0   \n",
      "4     ...             0                       0                0   \n",
      "...   ...           ...                     ...              ...   \n",
      "9995  ...             0                       0                0   \n",
      "9996  ...             0                       0                0   \n",
      "9997  ...             0                       0                0   \n",
      "9998  ...             0                       0                0   \n",
      "9999  ...             0                       0                0   \n",
      "\n",
      "      village homestays  water parks  waterfalls  whale watching  \\\n",
      "0                     1            0           0               0   \n",
      "1                     0            0           0               0   \n",
      "2                     0            0           0               0   \n",
      "3                     0            0           0               0   \n",
      "4                     0            0           0               0   \n",
      "...                 ...          ...         ...             ...   \n",
      "9995                  0            0           0               0   \n",
      "9996                  0            0           0               0   \n",
      "9997                  0            0           0               0   \n",
      "9998                  0            0           0               0   \n",
      "9999                  0            0           0               0   \n",
      "\n",
      "      wildlife viewing  yoga retreats  zip-lining  \n",
      "0                    0              0           0  \n",
      "1                    1              0           0  \n",
      "2                    0              0           0  \n",
      "3                    0              0           0  \n",
      "4                    0              0           0  \n",
      "...                ...            ...         ...  \n",
      "9995                 0              0           0  \n",
      "9996                 0              1           0  \n",
      "9997                 0              0           1  \n",
      "9998                 0              0           0  \n",
      "9999                 0              0           0  \n",
      "\n",
      "[10000 rows x 69 columns]\n"
     ]
    }
   ],
   "source": [
    "import pandas as pd\n",
    "import ast\n",
    "\n",
    "# For a CSV file\n",
    "df = pd.read_csv(\"/kaggle/input/visitors/Visitors Preference Dataset.xlsx - user_data_version_3_10K_Users.csv\")\n",
    "\n",
    "# Extract the \"User ID\" column as an array\n",
    "user_name_array = df['Name'].values\n",
    "user_preferred_act_array_str = df['Preferred Activities'].values\n",
    "user_preferred_act_array = [ast.literal_eval(sub_string) for sub_string in user_preferred_act_array_str]\n",
    "\n",
    "\n",
    "\n",
    "data = {\n",
    "    'Name': user_name_array,\n",
    "    'Preferred Activities': user_preferred_act_array\n",
    "}\n",
    "\n",
    "new_df = pd.DataFrame(data)\n",
    "activities = pd.get_dummies(new_df['Preferred Activities'].apply(pd.Series).stack()).groupby(level=0).sum()\n",
    "df_binary = pd.concat([new_df['Name'], activities], axis=1)\n",
    "print(df_binary)"
   ]
  }
 ],
 "metadata": {
  "kaggle": {
   "accelerator": "none",
   "dataSources": [
    {
     "datasetId": 5673984,
     "sourceId": 9358711,
     "sourceType": "datasetVersion"
    },
    {
     "datasetId": 5674022,
     "sourceId": 9358758,
     "sourceType": "datasetVersion"
    }
   ],
   "dockerImageVersionId": 30761,
   "isGpuEnabled": false,
   "isInternetEnabled": true,
   "language": "python",
   "sourceType": "notebook"
  },
  "kernelspec": {
   "display_name": "Python 3",
   "language": "python",
   "name": "python3"
  },
  "language_info": {
   "codemirror_mode": {
    "name": "ipython",
    "version": 3
   },
   "file_extension": ".py",
   "mimetype": "text/x-python",
   "name": "python",
   "nbconvert_exporter": "python",
   "pygments_lexer": "ipython3",
   "version": "3.10.14"
  },
  "papermill": {
   "default_parameters": {},
   "duration": 20.016604,
   "end_time": "2024-09-10T10:55:46.047483",
   "environment_variables": {},
   "exception": null,
   "input_path": "__notebook__.ipynb",
   "output_path": "__notebook__.ipynb",
   "parameters": {},
   "start_time": "2024-09-10T10:55:26.030879",
   "version": "2.6.0"
  }
 },
 "nbformat": 4,
 "nbformat_minor": 5
}
